{
 "cells": [
  {
   "cell_type": "code",
   "execution_count": 10,
   "metadata": {},
   "outputs": [],
   "source": [
    "import pickle\n",
    "import json"
   ]
  },
  {
   "cell_type": "code",
   "execution_count": 8,
   "metadata": {},
   "outputs": [],
   "source": [
    "with open(\"taxonomia.pkl\", \"rb\") as input_file:\n",
    "    queries = pickle.load(input_file)"
   ]
  },
  {
   "cell_type": "code",
   "execution_count": 12,
   "metadata": {},
   "outputs": [],
   "source": [
    "with open(\"taxonomia.json\", \"w\") as output_file:\n",
    "    json.dump(queries, output_file)"
   ]
  },
  {
   "cell_type": "code",
   "execution_count": 13,
   "metadata": {},
   "outputs": [
    {
     "name": "stdout",
     "output_type": "stream",
     "text": [
      "['efectividad AND hormonal', 'condon AND unico', 'abortar AND solicitar', 'hormonal AND menstruacion', 'dispositivo AND embarazo', 'embarazo AND especificar', 'embarazo AND prevenir', 'hormona AND medicamento', 'barrera AND embarazo', 'hormonal AND periodo', 'disminuir AND preservativo', 'embarazar AND pastilla', 'anticonceptivo AND menstruacion', 'abortar AND recibir', 'abortar AND atencion', 'condon AND disminuir', 'embarazo AND unico', 'haber AND preservativo', 'anticonceptivo AND efectividad', 'diu AND espermatozoide', 'efectividad AND menstruacion', 'condon AND embarazo', 'anticoncepcion AND emergencia', 'embarazo AND recomendar', 'anticoncepcion AND embarazar', 'menstrual AND pastilla', 'embarazo AND requerir', 'embarazo AND preservativo', 'disminuir AND embarazo', 'condon AND proteger', 'hormonal AND tomar', 'efecto AND hormonal', 'abortar AND requerir', 'anticonceptivo AND tomar', 'abortar AND garantizar', 'hormona AND probar', 'embarazo AND iniciar', 'dispositivo AND preservativo', 'barrera AND hormona', 'embarazar AND menstruacion', 'anticoncepcion AND citar', 'anticoncepcion AND anticonceptivo', 'anticonceptivo AND pastilla', 'hormonal AND pastilla', 'implantar AND menstruacion', 'hormona AND recomendar', 'efecto AND pastilla', 'hormona AND iniciar', 'barrera AND preservativo', 'anticoncepcion AND metodos', 'condon AND recomendar', 'diu AND iniciar', 'anticonceptivo AND menstrual', 'menstruacion AND periodo', 'anticonceptivo AND embarazar', 'condon AND dispositivo', 'emergencia AND hormonal', 'abortar AND consultar', 'dudar AND embarazo', 'espermatozoide AND preservativo', 'hormona AND implantar', 'anticoncepcion AND entidad', 'abortar AND dudar', 'hormonal AND implantar', 'preservativo AND unico', 'efecto AND menstruacion', 'preservativo AND requerir', 'anticoncepcion AND asesoria', 'abortar AND eps', 'abortar AND siguiente', 'pastilla AND tomar', 'anticoncepcion AND efectividad', 'preservativo AND prevenir', 'disminuir AND hormona', 'hormona AND preservativo', 'barrera AND diu', 'anticonceptivo AND emergencia', 'barrera AND condon', 'diu AND medicamento', 'diu AND probar', 'menstruacion AND pastilla', 'menstruacion AND recomer', 'condon AND prevenir', 'diu AND hormona', 'emergencia AND pastilla', 'hormonal AND recomer', 'dispositivo AND diu', 'diu AND recomendar', 'emergencia AND menstruacion', 'diu AND implantar', 'espermatozoide AND hormona', 'dispositivo AND hormona', 'menstruacion AND menstrual', 'abortar AND especificar', 'ciclar AND menstruacion', 'disminuir AND diu', 'anticonceptivo AND entidad', 'condon AND dudar', 'condon AND preservativo', 'anticoncepcion AND tomar', 'efectividad AND pastilla', 'anticoncepcion AND asistir', 'embarazar AND hormonal', 'hormonal AND metodos', 'anticonceptivo AND hormonal', 'anticoncepcion AND pastilla']\n"
     ]
    }
   ],
   "source": [
    "print(queries)"
   ]
  },
  {
   "cell_type": "markdown",
   "metadata": {},
   "source": [
    "## Lector de cuentas"
   ]
  },
  {
   "cell_type": "code",
   "execution_count": 1,
   "metadata": {},
   "outputs": [],
   "source": [
    "import pandas as pd"
   ]
  },
  {
   "cell_type": "code",
   "execution_count": 3,
   "metadata": {},
   "outputs": [],
   "source": [
    "df = pd.read_excel(\"organizaciones.xlsx\")"
   ]
  },
  {
   "cell_type": "code",
   "execution_count": 10,
   "metadata": {},
   "outputs": [
    {
     "data": {
      "text/plain": [
       "'[\"@5aldiacol\",\"@ADR_Colombia\",\"@AgenciaTierras\",\"@AgriculturaDia\",\"@AgronetMADR\",\"@SomosAGROSAVIA\",\"@ADR_Colombia\",\"@AUNAPColombia\",\"@BancoAgrario\",\"@SomosAGROSAVIA\",\"@FiduagrariaSA\",\"@Finagro\",\"@ICACOLOMBIA\",\"@MinAgricultura\",\"@UPRAColombia\",\"@URestitucion\",\"@AUNAPColombia\",\"@BancoAgrario\",\"@BolsaMercantil\",\"@CorabastosSA\",\"@ATALinkata\",\"@cci_agro\",\"@fiduagrariasa\",\"@Finagro\",\"@icacolombia\",\"@PortalSiembra\",\"@UPRAColombia\",\"@URestitucion\",\"@VisRural\",\"@ANLA_Col\",\"@ANLA_Col\",\"@inst_humboldt\",\"@InstitutoSINCHI\",\"@minambienteco\",\"@ParquesColombia\",\"@IDEAMColombia\",\"@CAR_Cundi\",\"@CORPOCHIVOR\",\"@corpoguavio\",\"@Corporinoquia\",\"@IDEAMColombia\",\"@invemarcolombia\",\"@inst_humboldt\",\"@ParquesColombia\",\"@IIAP_CO\",\"@InstitutoSINCHI\",\"@MincienciasCo\",\"@MinDeporteCol\",\"@BrandColombia\",\"@colombia_travel\",\"@fiducoldexcol\",\"@FNGSA\",\"@fonturcol\",\"@Colombia\",\"@Col_Productiva\",\"@PROPAIS\",\"@SSociedades\",\"@AnatoNacional\",\"@artesaniasdcol\",\"@bancoldex\",\"@INMdeColombia\",\"@InnpulsaCol\",\"@UAEjuntacc\",\"@procolombiaco\",\"@sicsuper\",\"@Bancoldex\",\"@FiducoldexCol\",\"@FNGSA\",\"@fonturcol\",\"@InnpulsaCol\",\"@MincomercioCo\",\"@PROCOLOMBIACO\",\"@Col_Productiva\",\"@sicsuper\",\"@SSociedades\",\"@apegatealeer\",\"@ArchivoGeneral\",\"@atencioncultura\",\"@BibliotecaNalCo\",\"@ArchivoGeneral\",\"@BancoRepublica\",\"@CaroyCuervo\",\"@El_Icanh\",\"@mincultura\",\"@MIStaClara\",\"@museonacionalco\",\"@SinfonicaNalCol\",\"@miteatrocolon\",\"@FundacionBatuta\",\"@DirComunicacion\",\"@dirpoblaciones\",\"@EmprendCultural\",\"@fundacionbatuta\",\"@el_icanh\",\"@caroycuervo\",\"@MaguaRed\",\"@FunMuntuBantu\",\"@museocolonial\",\"@Mindependencia\",\"@museonacionalco\",\"@QuintaBolivar\",\"@MIStaClara\",\"@filarmonibogota\",\"@plandanza\",\"@plandemusica\",\"@SinfonicaNalCol\",\"@miteatrocolon\",\"@dafp_colombia\",\"@DANE_Colombia\",\"@igacColombia\",\"@ARNColombia\",\"@apccolombia\",\"@ConsejeriaNinez\",\"@ConstruyoPais\",\"@equidad_mujer\",\"@DeCeroaSiempre\",\"@PosconflictoCO\",\"@DescontaminaCO\",\"@colombiajoven\",\"@SeguridadNalCo\",\"@ACRegiones\",\"@ConsejeriaDDHH\",\"@ComisionadoPaz\",\"@AgLogistica\",\"@armadacolombia\",\"@CajaHonor\",\"@casuroficial\",\"@ccoceano\",\"@CIAC_\",\"@CSFFMM\",\"@Club_Militar\",\"@codaltec\",\"@ccoetffmm\",\"@FuerzasMilCol\",\"@corpomatamoros\",\"@COTECMAR\",\"@Cremil_Co\",\"@DefensaCivilCo\",\"@DIJINPolicia\",\"@Dimarcolombia\",\"@Ejercito_Davaa\",\"@COL_EJERCITO\",\"@emisoraejercito\",\"@fuerzaaereacol\",\"@FORPO\",\"@GaulaPolicia\",\"@HOSMILC\",\"@HotelesTequenda\",\"@IndumilColombia\",\"@casasfiscales\",\"@mindefensa\",\"@ARNColombia\",\"@ArmadaColombia\",\"@CajaHonor\",\"@FuerzasMilCol\",\"@RECLUTAMIENTOCO\",\"@Dimarcolombia\",\"@EsdegCol\",\"@FuerzaAereaCol\",\"@HOSMILC\",\"@PoliciaAduanera\",\"@PoliciaAntiNar\",\"@PoliciaBogota\",\"@PoliciaBquilla\",\"@PoliciaCali\",\"@PoliciaCtagena\",\"@PoliciaCucuta\",\"@PoliciaIbague\",\"@PoliciaNeiva\",\"@PoliciaPereira\",\"@PoliciaStaMarta\",\"@PoliciaMTunja\",\"@PoliciaVillavo\",\"@PoliciaColombia\",\"@TransitoPolicia\",\"@GrupoPONALSAR\",\"@RECLUTAMIENTOCO\",\"@AerolineaSatena\",\"@SuperVigilancia\",\"@MinDeporteCol\",\"@ColombiaAprende\",\"@fodesep\",\"@ICETEX\",\"@ICFEScol\",\"@INCI_colombia\",\"@insor_colombia\",\"@ICETEX\",\"@ICFEScol\",\"@INCI_colombia\",\"@insor_colombia\",\"@mineducacion\",\"@PTA_Colombia\",\"@CGR_Colombia\",\"@DefensoriaCol\",\"@FiscaliaCol\",\"@Registraduria\",\"@bancorepublica\",\"@CISA_CENTRAL\",\"@ColjuegosCo\",\"@contaduria_cgn\",\"@FDNcolombia\",\"@Fiduprevisora\",\"@Findeter\",\"@Fogacoop\",\"@Fogafin\",\"@Fondoadaptacion\",\"@CISA_CENTRAL\",\"@ColjuegosCo\",\"@colombiacompra\",\"@Contaduria_CGN\",\"@Fiduprevisora\",\"@Fogafin\",\"@Fogacoop\",\"@FondoAdaptacion\",\"@DIANColombia\",\"@MinHacienda\",\"@PositivaCol\",\"@SomosPrevisora\",\"@SAESAS1\",\"@SFCsupervisor\",\"@_supersolidaria\",\"@UGPP_Colombia\",\"@UIAFColombia\",\"@URFCOLOMBIA\",\"@nasakiwe\",\"@DNBomberosCol\",\"@derechodeautor\",\"@ImprentaNalCol\",\"@Derechodeautor\",\"@MININTERIOR\",\"@unpcolombia\",\"@UrielColombia\",\"@AgenciaDefensaJ\",\"@masc_colombia\",\"@INPEC_Colombia\",\"@djtransicional\",\"@ObservDrogasCo\",\"@supernotariado\",\"@USPEC_Colombia\",\"@MinjusticiaCo\",\"@ANHColombia\",\"@anmcolombia\",\"@comisioncreg\",\"@ECOPETROL_SA\",\"@IPSE_COLOMBIA\",\"@MinEnergiaCo\",\"@sgcol\",\"@UPMEOficial\",\"@camaracolombia\",\"@fedemunicipios\",\"@fndcol\",\"@senadogovco\",\"@colombiacompra\",\"@ENTerritorioCo\",\"@DNP_Colombia\",\"@Regalias_gov\",\"@Superservicios\",\"@ANIM_Colombia\",\"@infopresidencia\",\"@ViceColombia\",\"@Stransparencia\",\"@ungrd\",\"@CentroMemoriaH\",\"@FamiliasAccion\",\"@JovenesAccionCo\",\"@ICBFColombia\",\"@ProsperidadCol\",\"@UnidadVictimas\",\"@ColombiaNosUne\",\"@migracioncol\",\"@CancilleriaCol\",\"@fondo_pasivo\",\"@DermaLleras\",\"@INCancerologia\",\"@INSColombia\",\"@invimacolombia\",\"@supersalud\",\"@MinSaludCol\",\"@ANE_Colombia\",\"@antvcolombia\",\"@appsco\",\"@CanalTreceCO\",\"@centroderelevo\",\"@CineParaTodosCO\",\"@CDigitalCo\",\"@Col4punto0\",\"@CompuParaEducar\",\"@conver_tic\",\"@CRCCol\",\"@ConectividadCO\",\"@enticconfio\",\"@GobDigitalCO\",\"@GobiernoEnRedes\",\"@IndustriaDigCol\",\"@Radnalco\",\"@RedvolucionCo\",\"@senalcolombia\",\"@rtvcco\",\"@senaldeportes\",\"@InstitucionalTV\",\"@SenalMemoria\",\"@radionica\",\"@472Colombia\",\"@TalentoDigCol\",\"@TeletrabajoCo\",\"@Transforma_Dig\",\"@urnadecristal\",\"@Ministerio_TIC\",\"@Colpensiones\",\"@CNSCColombia\",\"@orgsolidarias\",\"@ServiciodEmpleo\",\"@Supersubsidio\",\"@SENAComunica\",\"@MintrabajoCol\",\"@AerocivilCol\",\"@ansvcol\",\"@ANI_Colombia\",\"@Cormagdalena\",\"@InviasOficial\",\"@numeral767\",\"@RUNT_OFICIAL\",\"@Supertransporte\",\"@MinTransporteCo\",\"@cracolombia\",\"@FNAahorro\",\"@minvivienda\"]'"
      ]
     },
     "execution_count": 10,
     "metadata": {},
     "output_type": "execute_result"
    }
   ],
   "source": [
    "df[\"Cuentas\"].to_json(orient=\"records\")"
   ]
  },
  {
   "cell_type": "code",
   "execution_count": null,
   "metadata": {},
   "outputs": [],
   "source": []
  }
 ],
 "metadata": {
  "kernelspec": {
   "display_name": "Python 3",
   "language": "python",
   "name": "python3"
  },
  "language_info": {
   "codemirror_mode": {
    "name": "ipython",
    "version": 3
   },
   "file_extension": ".py",
   "mimetype": "text/x-python",
   "name": "python",
   "nbconvert_exporter": "python",
   "pygments_lexer": "ipython3",
   "version": "3.7.4"
  }
 },
 "nbformat": 4,
 "nbformat_minor": 2
}
